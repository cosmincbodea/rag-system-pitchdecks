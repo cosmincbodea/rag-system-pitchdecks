{
 "cells": [
  {
   "cell_type": "code",
   "execution_count": 1,
   "metadata": {},
   "outputs": [
    {
     "name": "stdout",
     "output_type": "stream",
     "text": [
      "Existing collections:\n",
      "CLIP_slides_collection\n",
      "\n",
      "Using collection: CLIP_slides_collection\n"
     ]
    }
   ],
   "source": [
    "import chromadb\n",
    "from chromadb.config import DEFAULT_TENANT, DEFAULT_DATABASE, Settings\n",
    "\n",
    "# Ensure the variables are defined\n",
    "persist_directory = '../data/chromadb'\n",
    "\n",
    "collection_name = 'CLIP_slides_collection'\n",
    "\n",
    "# Initialize ChromaDB client with the existing settings\n",
    "client = chromadb.PersistentClient(\n",
    "    path=persist_directory,\n",
    "    settings=Settings(),\n",
    "    tenant=DEFAULT_TENANT,\n",
    "    database=DEFAULT_DATABASE,\n",
    ")\n",
    "\n",
    "# List all collections in ChromaDB\n",
    "collections = client.list_collections()\n",
    "print(\"Existing collections:\")\n",
    "for collection_n in collections:\n",
    "    collection = client.get_collection(collection_n)\n",
    "    print(collection.name)\n",
    "\n",
    "print (\"\")\n",
    "\n",
    "# Retrieve the specific collection by name\n",
    "collection = client.get_collection(collection_name)\n",
    "print(f\"Using collection: {collection_name}\")"
   ]
  },
  {
   "cell_type": "code",
   "execution_count": 39,
   "metadata": {},
   "outputs": [
    {
     "name": "stdout",
     "output_type": "stream",
     "text": [
      "{'ids': [['AirBnB_Pitch_Deck_slide18.png', 'AirBnB_Pitch_Deck_slide4.png', 'AirBnB_Pitch_Deck_slide1.png']], 'embeddings': None, 'documents': [['AirBnB_Pitch_Deck_slide18.png', 'AirBnB_Pitch_Deck_slide4.png', 'AirBnB_Pitch_Deck_slide1.png']], 'uris': None, 'data': None, 'metadatas': [[{'presentation': 'AirBnB'}, {'presentation': 'AirBnB'}, {'presentation': 'AirBnB'}]], 'distances': [[114.04544197510567, 115.84703448228008, 118.01697291037031]], 'included': [<IncludeEnum.distances: 'distances'>, <IncludeEnum.documents: 'documents'>, <IncludeEnum.metadatas: 'metadatas'>]}\n"
     ]
    }
   ],
   "source": [
    "from transformers import CLIPProcessor, CLIPModel\n",
    "\n",
    "# Load the CLIP model and processor\n",
    "model_name = \"openai/clip-vit-base-patch32\"\n",
    "clip_model = CLIPModel.from_pretrained(model_name)\n",
    "clip_processor = CLIPProcessor.from_pretrained(model_name)\n",
    "\n",
    "# Function to embed text using CLIP\n",
    "def embed_text_with_clip(texts):\n",
    "    inputs = clip_processor(text=texts, return_tensors=\"pt\", padding=True)\n",
    "    embeddings = clip_model.get_text_features(**inputs)\n",
    "    return embeddings.detach().numpy()\n",
    "\n",
    "# Embed the query\n",
    "query_text = \"Who are the founders of airbnb?\"\n",
    "query_embedding = embed_text_with_clip([query_text])  # Returns a NumPy array\n",
    "\n",
    "search_results = collection.query(\n",
    "    query_embeddings=query_embedding,  # Use the embedding generated above\n",
    "    n_results=3  # Retrieve the top 5 most relevant results\n",
    ")\n",
    "\n",
    "print(search_results)"
   ]
  },
  {
   "cell_type": "code",
   "execution_count": 38,
   "metadata": {},
   "outputs": [
    {
     "name": "stdout",
     "output_type": "stream",
     "text": [
      "Response: The text doesn't provide information on the market validation of AirBnB.\n"
     ]
    }
   ],
   "source": [
    "import os\n",
    "from dotenv import load_dotenv\n",
    "from transformers import CLIPProcessor, CLIPModel\n",
    "from langchain.chat_models import ChatOpenAI\n",
    "from langchain.prompts import PromptTemplate\n",
    "from langchain.chains import LLMChain\n",
    "\n",
    "# Load environment variables from .env file\n",
    "load_dotenv()\n",
    "# Retrieve the OpenAI API key from environment variables\n",
    "openai_api_key = os.getenv(\"OPENAI_API_KEY\")\n",
    "\n",
    "# Step 1: Load the CLIP model and processor\n",
    "model_name = \"openai/clip-vit-base-patch32\"\n",
    "clip_model = CLIPModel.from_pretrained(model_name)\n",
    "clip_processor = CLIPProcessor.from_pretrained(model_name)\n",
    "\n",
    "# Function to embed text using CLIP\n",
    "def embed_text_with_clip(texts):\n",
    "    inputs = clip_processor(text=texts, return_tensors=\"pt\", padding=True)\n",
    "    embeddings = clip_model.get_text_features(**inputs)\n",
    "    return embeddings.detach().numpy()\n",
    "\n",
    "# Step 2: Embed the query text\n",
    "question = \"What is the market validation of AirBnB?\"\n",
    "\n",
    "query_embedding = embed_text_with_clip([question])  # Returns a NumPy array\n",
    "\n",
    "# Step 3: Query the ChromaDB collection\n",
    "search_results = collection.query(\n",
    "    query_embeddings=query_embedding,  # Use the embedding generated above\n",
    "    n_results=5  # Retrieve the top 5 most relevant results\n",
    ")\n",
    "\n",
    "# Step 4: Extract context from the search results\n",
    "context = \"\\n\".join([doc for sublist in search_results[\"documents\"] for doc in sublist])\n",
    "\n",
    "# Step 5: Create a prompt template\n",
    "prompt_template = PromptTemplate(\n",
    "    input_variables=[\"context\", \"question\"],\n",
    "    template=\"{context}\\n\\nQuestion: {question}\\nAnswer:\"\n",
    ")\n",
    "\n",
    "# Step 6: Initialize the OpenAI LLM through LangChain\n",
    "llm = ChatOpenAI(\n",
    "    model=\"gpt-4\",\n",
    "    openai_api_key=openai_api_key  # Replace with your actual API key\n",
    ")\n",
    "\n",
    "# Step 7: Create an LLMChain with the prompt template\n",
    "llm_chain = LLMChain(llm=llm, prompt=prompt_template)\n",
    "\n",
    "# Step 8: Run the LLMChain to generate the answer\n",
    "response = llm_chain.run(context=context, question=question)\n",
    "\n",
    "# Step 9: Print the response\n",
    "print(\"Response:\", response)\n"
   ]
  }
 ],
 "metadata": {
  "kernelspec": {
   "display_name": "base",
   "language": "python",
   "name": "python3"
  },
  "language_info": {
   "codemirror_mode": {
    "name": "ipython",
    "version": 3
   },
   "file_extension": ".py",
   "mimetype": "text/x-python",
   "name": "python",
   "nbconvert_exporter": "python",
   "pygments_lexer": "ipython3",
   "version": "3.12.4"
  }
 },
 "nbformat": 4,
 "nbformat_minor": 2
}
