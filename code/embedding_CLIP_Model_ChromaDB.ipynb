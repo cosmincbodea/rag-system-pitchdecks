{
 "cells": [
  {
   "cell_type": "code",
   "execution_count": 18,
   "metadata": {},
   "outputs": [
    {
     "name": "stdout",
     "output_type": "stream",
     "text": [
      "Existing collections:\n",
      "Created or got collection 'CLIP_slides_collection'\n",
      "Loaded CLIP model and processor\n",
      "Added AirBnB_Pitch_Deck_slide10.png to collection\n",
      "Added AirBnB_Pitch_Deck_slide11.png to collection\n",
      "Added AirBnB_Pitch_Deck_slide13.png to collection\n",
      "Added AirBnB_Pitch_Deck_slide12.png to collection\n",
      "Added AirBnB_Pitch_Deck_slide9.png to collection\n",
      "Added AirBnB_Pitch_Deck_slide16.png to collection\n",
      "Added AirBnB_Pitch_Deck_slide17.png to collection\n",
      "Added AirBnB_Pitch_Deck_slide8.png to collection\n",
      "Added AirBnB_Pitch_Deck_slide15.png to collection\n",
      "Added AirBnB_Pitch_Deck_slide14.png to collection\n",
      "Added AirBnB_Pitch_Deck_slide6.png to collection\n",
      "Added AirBnB_Pitch_Deck_slide18.png to collection\n",
      "Added AirBnB_Pitch_Deck_slide7.png to collection\n",
      "Added AirBnB_Pitch_Deck_slide5.png to collection\n",
      "Added AirBnB_Pitch_Deck_slide4.png to collection\n",
      "Added AirBnB_Pitch_Deck_slide1.png to collection\n",
      "Added AirBnB_Pitch_Deck_slide3.png to collection\n",
      "Added AirBnB_Pitch_Deck_slide2.png to collection\n"
     ]
    }
   ],
   "source": [
    "import os\n",
    "from PIL import Image\n",
    "import torch\n",
    "from transformers import CLIPProcessor, CLIPModel\n",
    "import chromadb\n",
    "from chromadb.config import DEFAULT_TENANT, DEFAULT_DATABASE, Settings\n",
    "\n",
    "# Ensure the variables are defined\n",
    "persist_directory = '../data/chromadb'\n",
    "slides_path = '../data/slides'\n",
    "\n",
    "collection_name = 'CLIP_slides_collection'\n",
    "\n",
    "# Initialize ChromaDB client with the existing settings\n",
    "client = chromadb.PersistentClient(\n",
    "    path=persist_directory,\n",
    "    settings=Settings(),\n",
    "    tenant=DEFAULT_TENANT,\n",
    "    database=DEFAULT_DATABASE,\n",
    ")\n",
    "\n",
    "# List all collections in ChromaDB\n",
    "collections = client.list_collections()\n",
    "print(\"Existing collections:\")\n",
    "for collection_n in collections:\n",
    "    collection = client.get_collection(collection_n)\n",
    "    print(collection.name)\n",
    "\n",
    "# Create or get the collection in ChromaDB\n",
    "collection = client.create_collection(collection_name, get_or_create=True)\n",
    "print(\"Created or got collection 'CLIP_slides_collection'\")\n",
    "\n",
    "# Load the CLIP model and processor\n",
    "model = CLIPModel.from_pretrained(\"openai/clip-vit-base-patch32\")\n",
    "processor = CLIPProcessor.from_pretrained(\"openai/clip-vit-base-patch32\")\n",
    "print(\"Loaded CLIP model and processor\")\n",
    "\n",
    "# Function to embed an image using CLIP\n",
    "def embed_image(image_path):\n",
    "    image = Image.open(image_path)\n",
    "    inputs = processor(images=image, return_tensors=\"pt\")\n",
    "    with torch.no_grad():\n",
    "        embeddings = model.get_image_features(**inputs)\n",
    "    return embeddings.squeeze().tolist()\n",
    "\n",
    "# Iterate over each image in the slides folder and embed it\n",
    "for filename in os.listdir(slides_path):\n",
    "    if filename.endswith('.png'):\n",
    "        image_path = os.path.join(slides_path, filename)\n",
    "        embeddings = embed_image(image_path)\n",
    "        collection.add(\n",
    "            ids=[filename],  # Use filename as the unique ID\n",
    "            documents=[filename],\n",
    "            embeddings=[embeddings]\n",
    "        )\n",
    "        print(f\"Added {filename} to collection\")\n"
   ]
  },
  {
   "cell_type": "code",
   "execution_count": 17,
   "metadata": {},
   "outputs": [],
   "source": [
    "client.delete_collection(collection_name)"
   ]
  },
  {
   "cell_type": "code",
   "execution_count": 21,
   "metadata": {},
   "outputs": [
    {
     "name": "stdout",
     "output_type": "stream",
     "text": [
      "ID: AirBnB_Pitch_Deck_slide10.png, Document: AirBnB_Pitch_Deck_slide10.png, Embedding: [-0.29650497 -0.45568323  0.12390557  0.14443952 -0.04381865]...\n",
      "ID: AirBnB_Pitch_Deck_slide11.png, Document: AirBnB_Pitch_Deck_slide11.png, Embedding: [-0.31927934 -0.19493011  0.05249168  0.12463375  0.28774643]...\n",
      "ID: AirBnB_Pitch_Deck_slide13.png, Document: AirBnB_Pitch_Deck_slide13.png, Embedding: [-0.20980214 -0.07775372  0.08181545 -0.63865143  0.54446042]...\n",
      "ID: AirBnB_Pitch_Deck_slide12.png, Document: AirBnB_Pitch_Deck_slide12.png, Embedding: [-0.13213493 -0.36214155  0.06294962 -0.22132587  0.12163597]...\n",
      "ID: AirBnB_Pitch_Deck_slide9.png, Document: AirBnB_Pitch_Deck_slide9.png, Embedding: [-0.02860507  0.09930226 -0.01386034  0.28498939  0.31792754]...\n",
      "ID: AirBnB_Pitch_Deck_slide16.png, Document: AirBnB_Pitch_Deck_slide16.png, Embedding: [-0.49150854 -0.40084404  0.01018639  0.23208091  0.17551343]...\n",
      "ID: AirBnB_Pitch_Deck_slide17.png, Document: AirBnB_Pitch_Deck_slide17.png, Embedding: [-0.68267071  0.14465824 -0.22292134 -0.19739082 -0.05231286]...\n",
      "ID: AirBnB_Pitch_Deck_slide8.png, Document: AirBnB_Pitch_Deck_slide8.png, Embedding: [ 0.05763729 -0.27580759  0.04534204  0.13833496  0.58842778]...\n",
      "ID: AirBnB_Pitch_Deck_slide15.png, Document: AirBnB_Pitch_Deck_slide15.png, Embedding: [-0.16179921  0.14459881 -0.15454802  0.58932877  0.17299584]...\n",
      "ID: AirBnB_Pitch_Deck_slide14.png, Document: AirBnB_Pitch_Deck_slide14.png, Embedding: [-0.30314028 -0.07279765 -0.06953873 -0.16629401  0.44162783]...\n",
      "ID: AirBnB_Pitch_Deck_slide6.png, Document: AirBnB_Pitch_Deck_slide6.png, Embedding: [-0.58476329 -0.23040394  0.19898242  0.21740916  0.10708996]...\n",
      "ID: AirBnB_Pitch_Deck_slide18.png, Document: AirBnB_Pitch_Deck_slide18.png, Embedding: [-0.26162976 -0.77121764 -0.13830726  0.16298044  0.07251779]...\n",
      "ID: AirBnB_Pitch_Deck_slide7.png, Document: AirBnB_Pitch_Deck_slide7.png, Embedding: [ 0.22733617 -0.00202462  0.12669133  0.03345888  0.525617  ]...\n",
      "ID: AirBnB_Pitch_Deck_slide5.png, Document: AirBnB_Pitch_Deck_slide5.png, Embedding: [-0.26925045 -0.04935207  0.01709414  0.42719084  0.14326546]...\n",
      "ID: AirBnB_Pitch_Deck_slide4.png, Document: AirBnB_Pitch_Deck_slide4.png, Embedding: [-0.4809193  -0.43264067 -0.35803846  0.14415032  0.56691808]...\n",
      "ID: AirBnB_Pitch_Deck_slide1.png, Document: AirBnB_Pitch_Deck_slide1.png, Embedding: [-0.26470253  0.03705652  0.10684823 -0.10600062  0.07629952]...\n",
      "ID: AirBnB_Pitch_Deck_slide3.png, Document: AirBnB_Pitch_Deck_slide3.png, Embedding: [-0.08024167 -0.12873237  0.11116273 -0.31135741 -0.15961105]...\n",
      "ID: AirBnB_Pitch_Deck_slide2.png, Document: AirBnB_Pitch_Deck_slide2.png, Embedding: [-0.36037982  0.36520606 -0.27462792  0.30860212 -0.05220597]...\n"
     ]
    }
   ],
   "source": [
    "# Retrieve and print the metadata of the embeddings\n",
    "documents = collection.get(ids=[filename for filename in os.listdir(slides_path) if filename.endswith('.png')], include=['documents', 'embeddings'])\n",
    "for doc_id, doc, embedding in zip(documents['ids'], documents['documents'], documents['embeddings']):\n",
    "    print(f\"ID: {doc_id}, Document: {doc}, Embedding: {embedding[:5]}...\")  # Print first 5 elements of the embedding for brevity"
   ]
  },
  {
   "cell_type": "code",
   "execution_count": 16,
   "metadata": {},
   "outputs": [
    {
     "name": "stdout",
     "output_type": "stream",
     "text": [
      "ID: AirBnB_Pitch_Deck_slide10.png\n",
      "ID: AirBnB_Pitch_Deck_slide11.png\n",
      "ID: AirBnB_Pitch_Deck_slide13.png\n",
      "ID: AirBnB_Pitch_Deck_slide12.png\n",
      "ID: AirBnB_Pitch_Deck_slide9.png\n",
      "ID: AirBnB_Pitch_Deck_slide16.png\n",
      "ID: AirBnB_Pitch_Deck_slide17.png\n",
      "ID: AirBnB_Pitch_Deck_slide8.png\n",
      "ID: AirBnB_Pitch_Deck_slide15.png\n",
      "ID: AirBnB_Pitch_Deck_slide14.png\n",
      "ID: AirBnB_Pitch_Deck_slide6.png\n",
      "ID: AirBnB_Pitch_Deck_slide18.png\n",
      "ID: AirBnB_Pitch_Deck_slide7.png\n",
      "ID: AirBnB_Pitch_Deck_slide5.png\n",
      "ID: AirBnB_Pitch_Deck_slide4.png\n",
      "ID: AirBnB_Pitch_Deck_slide1.png\n",
      "ID: AirBnB_Pitch_Deck_slide3.png\n",
      "ID: AirBnB_Pitch_Deck_slide2.png\n"
     ]
    }
   ],
   "source": [
    "# Retrieve all documents and their embeddings from the collection\n",
    "documents = collection.get(include=['embeddings'])\n",
    "\n",
    "# Print the embeddings\n",
    "for doc_id, embedding in zip(documents['ids'], documents['embeddings']):\n",
    "    print(f\"ID: {doc_id}, Embedding: {embedding}\")"
   ]
  }
 ],
 "metadata": {
  "kernelspec": {
   "display_name": "base",
   "language": "python",
   "name": "python3"
  },
  "language_info": {
   "codemirror_mode": {
    "name": "ipython",
    "version": 3
   },
   "file_extension": ".py",
   "mimetype": "text/x-python",
   "name": "python",
   "nbconvert_exporter": "python",
   "pygments_lexer": "ipython3",
   "version": "3.12.4"
  }
 },
 "nbformat": 4,
 "nbformat_minor": 2
}
